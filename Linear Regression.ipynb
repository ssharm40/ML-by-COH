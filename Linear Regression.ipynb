{
 "cells": [
  {
   "cell_type": "code",
   "execution_count": 1,
   "id": "b430c061",
   "metadata": {},
   "outputs": [],
   "source": [
    "import matplotlib.pyplot as plt\n",
    "\n",
    "import numpy as np\n",
    "\n",
    "from sklearn import datasets, linear_model"
   ]
  },
  {
   "cell_type": "code",
   "execution_count": 2,
   "id": "815e796a",
   "metadata": {},
   "outputs": [],
   "source": [
    "#To import data\n",
    "\n",
    "diabetes= datasets.load_diabetes()\n",
    "\n"
   ]
  },
  {
   "cell_type": "code",
   "execution_count": 3,
   "id": "f82378a8",
   "metadata": {},
   "outputs": [
    {
     "data": {
      "text/plain": [
       "dict_keys(['data', 'target', 'frame', 'DESCR', 'feature_names', 'data_filename', 'target_filename'])"
      ]
     },
     "execution_count": 3,
     "metadata": {},
     "output_type": "execute_result"
    }
   ],
   "source": [
    "#To see data\n",
    "diabetes.keys()\n"
   ]
  },
  {
   "cell_type": "code",
   "execution_count": 4,
   "id": "a57797c3",
   "metadata": {},
   "outputs": [
    {
     "data": {
      "text/plain": [
       "array([[ 0.03807591,  0.05068012,  0.06169621, ..., -0.00259226,\n",
       "         0.01990842, -0.01764613],\n",
       "       [-0.00188202, -0.04464164, -0.05147406, ..., -0.03949338,\n",
       "        -0.06832974, -0.09220405],\n",
       "       [ 0.08529891,  0.05068012,  0.04445121, ..., -0.00259226,\n",
       "         0.00286377, -0.02593034],\n",
       "       ...,\n",
       "       [ 0.04170844,  0.05068012, -0.01590626, ..., -0.01107952,\n",
       "        -0.04687948,  0.01549073],\n",
       "       [-0.04547248, -0.04464164,  0.03906215, ...,  0.02655962,\n",
       "         0.04452837, -0.02593034],\n",
       "       [-0.04547248, -0.04464164, -0.0730303 , ..., -0.03949338,\n",
       "        -0.00421986,  0.00306441]])"
      ]
     },
     "execution_count": 4,
     "metadata": {},
     "output_type": "execute_result"
    }
   ],
   "source": [
    "#It's all numpy arrays\n",
    "diabetes.data"
   ]
  },
  {
   "cell_type": "code",
   "execution_count": 5,
   "id": "8fd59071",
   "metadata": {},
   "outputs": [
    {
     "data": {
      "text/plain": [
       "(442, 10)"
      ]
     },
     "execution_count": 5,
     "metadata": {},
     "output_type": "execute_result"
    }
   ],
   "source": [
    "diabetes_x=diabetes['data']\n",
    "diabetes_x.shape"
   ]
  },
  {
   "cell_type": "code",
   "execution_count": 6,
   "id": "c422e681",
   "metadata": {},
   "outputs": [
    {
     "data": {
      "text/plain": [
       "(442,)"
      ]
     },
     "execution_count": 6,
     "metadata": {},
     "output_type": "execute_result"
    }
   ],
   "source": [
    "diabetes_y=diabetes['target']\n",
    "diabetes_y.shape"
   ]
  },
  {
   "cell_type": "code",
   "execution_count": 7,
   "id": "ae9859e4",
   "metadata": {},
   "outputs": [],
   "source": [
    "diabetes_x_train= diabetes_x[:-30]\n",
    "diabetes_y_train=diabetes_y[:-30]\n"
   ]
  },
  {
   "cell_type": "code",
   "execution_count": 8,
   "id": "a52794ef",
   "metadata": {},
   "outputs": [],
   "source": [
    "diabetes_x_test=diabetes_x[-30:]\n",
    "diabetes_y_test=diabetes_y[-30:]"
   ]
  },
  {
   "cell_type": "code",
   "execution_count": null,
   "id": "b9b3c1c3",
   "metadata": {},
   "outputs": [],
   "source": []
  },
  {
   "cell_type": "code",
   "execution_count": 9,
   "id": "b1878241",
   "metadata": {},
   "outputs": [],
   "source": [
    "model= linear_model.LinearRegression()"
   ]
  },
  {
   "cell_type": "code",
   "execution_count": 10,
   "id": "60345c93",
   "metadata": {},
   "outputs": [
    {
     "data": {
      "text/plain": [
       "LinearRegression()"
      ]
     },
     "execution_count": 10,
     "metadata": {},
     "output_type": "execute_result"
    }
   ],
   "source": [
    "model.fit(diabetes_x_train,diabetes_y_train)"
   ]
  },
  {
   "cell_type": "code",
   "execution_count": 11,
   "id": "71546a0e",
   "metadata": {},
   "outputs": [
    {
     "data": {
      "text/plain": [
       "array([234.04069476, 122.92246614, 166.35433115, 174.39222892,\n",
       "       226.94851442, 151.82190227, 100.94358512,  83.08956073,\n",
       "       143.1298667 , 192.67823683, 197.98434449, 154.37965196,\n",
       "       173.16544327, 112.38886823, 164.20528828, 131.63666326,\n",
       "       258.66439447, 101.4126313 , 117.87101994, 123.5370635 ,\n",
       "       219.5123662 ,  62.09123359, 133.09435929, 121.33048447,\n",
       "        53.51502538, 193.125764  , 104.69007361, 123.68983031,\n",
       "       211.27336049,  53.87045485])"
      ]
     },
     "execution_count": 11,
     "metadata": {},
     "output_type": "execute_result"
    }
   ],
   "source": [
    "diabetes_y_predict= model.predict(diabetes_x_test)\n",
    "diabetes_y_predict"
   ]
  },
  {
   "cell_type": "code",
   "execution_count": 12,
   "id": "5cee62c2",
   "metadata": {},
   "outputs": [
    {
     "name": "stdout",
     "output_type": "stream",
     "text": [
      "Accuracy of your Model is :  1826.5364191345418\n"
     ]
    }
   ],
   "source": [
    "# To check the accuracy\n",
    "\n",
    "from sklearn.metrics import mean_squared_error\n",
    "\n",
    "acc=mean_squared_error(diabetes_y_test, diabetes_y_predict)\n",
    "print('Accuracy of your Model is : ',acc)\n",
    "\n"
   ]
  },
  {
   "cell_type": "code",
   "execution_count": 13,
   "id": "558076ed",
   "metadata": {},
   "outputs": [
    {
     "name": "stdout",
     "output_type": "stream",
     "text": [
      "[  -1.16924976 -237.18461486  518.30606657  309.04865826 -763.14121622\n",
      "  458.90999325   80.62441437  174.32183366  721.49712065   79.19307944]\n",
      "153.05827988224112\n"
     ]
    }
   ],
   "source": [
    "# We can also know the intercept and weights\n",
    "\n",
    "wts= model.coef_\n",
    "itrcept= model.intercept_\n",
    "print(wts)\n",
    "print(itrcept)"
   ]
  },
  {
   "cell_type": "code",
   "execution_count": 14,
   "id": "76ecc2f8",
   "metadata": {},
   "outputs": [
    {
     "data": {
      "text/plain": [
       "array([[ 0.03807591,  0.05068012,  0.06169621, ..., -0.00259226,\n",
       "         0.01990842, -0.01764613],\n",
       "       [-0.00188202, -0.04464164, -0.05147406, ..., -0.03949338,\n",
       "        -0.06832974, -0.09220405],\n",
       "       [ 0.08529891,  0.05068012,  0.04445121, ..., -0.00259226,\n",
       "         0.00286377, -0.02593034],\n",
       "       ...,\n",
       "       [-0.05273755,  0.05068012, -0.01159501, ...,  0.07120998,\n",
       "         0.03056649, -0.0052198 ],\n",
       "       [-0.00914709,  0.05068012, -0.0277622 , ...,  0.03430886,\n",
       "         0.06604821, -0.04249877],\n",
       "       [ 0.00538306, -0.04464164,  0.05846277, ..., -0.0763945 ,\n",
       "        -0.05140054, -0.02593034]])"
      ]
     },
     "execution_count": 14,
     "metadata": {},
     "output_type": "execute_result"
    }
   ],
   "source": [
    "diabetes_x_train"
   ]
  },
  {
   "cell_type": "code",
   "execution_count": 15,
   "id": "a34c2b9b",
   "metadata": {},
   "outputs": [
    {
     "data": {
      "image/png": "[encoded data removed]",
      "text/plain": [
       "<Figure size 432x288 with 1 Axes>"
      ]
     },
     "metadata": {
      "needs_background": "light"
     },
     "output_type": "display_data"
    }
   ],
   "source": [
    "\n",
    "# For Graph\n",
    "\n",
    "\n",
    "plt.scatter(diabetes_x_test[:,np.newaxis,2],diabetes_y_test)\n",
    "plt.plot(diabetes_x_test[:,np.newaxis,2],diabetes_y_predict)\n",
    "plt.show()"
   ]
  },
  {
   "cell_type": "code",
   "execution_count": null,
   "id": "5c8bbdeb",
   "metadata": {},
   "outputs": [],
   "source": []
  },
  {
   "cell_type": "code",
   "execution_count": null,
   "id": "ab0e7452",
   "metadata": {},
   "outputs": [],
   "source": []
  },
  {
   "cell_type": "code",
   "execution_count": null,
   "id": "2b98c390",
   "metadata": {},
   "outputs": [],
   "source": []
  },
  {
   "cell_type": "code",
   "execution_count": null,
   "id": "52384358",
   "metadata": {},
   "outputs": [],
   "source": []
  },
  {
   "cell_type": "code",
   "execution_count": null,
   "id": "ab0fb40a",
   "metadata": {},
   "outputs": [],
   "source": []
  },
  {
   "cell_type": "code",
   "execution_count": null,
   "id": "e3d6d490",
   "metadata": {},
   "outputs": [],
   "source": []
  },
  {
   "cell_type": "code",
   "execution_count": 16,
   "id": "237073f2",
   "metadata": {},
   "outputs": [],
   "source": [
    "#For slicing understanding\n",
    "\n",
    "l=np.arange(1,101,1)\n",
    "#l\n",
    "\n",
    "x=l[:-20]\n",
    "#x\n",
    "\n",
    "y=l[-20:]\n",
    "#y"
   ]
  },
  {
   "cell_type": "code",
   "execution_count": 17,
   "id": "98c96498",
   "metadata": {},
   "outputs": [
    {
     "data": {
      "text/plain": [
       "array([ 1,  2,  3,  4,  5,  6,  7,  8,  9, 10, 11, 12, 13, 14, 15, 16, 17,\n",
       "       18, 19, 20, 21, 22, 23, 24, 25, 26, 27, 28, 29, 30, 31, 32, 33, 34,\n",
       "       35, 36, 37, 38, 39, 40, 41, 42, 43, 44, 45, 46, 47, 48, 49, 50, 51,\n",
       "       52, 53, 54, 55, 56, 57, 58, 59, 60, 61, 62, 63, 64, 65, 66, 67, 68,\n",
       "       69, 70, 71, 72, 73, 74, 75, 76, 77, 78, 79, 80])"
      ]
     },
     "execution_count": 17,
     "metadata": {},
     "output_type": "execute_result"
    }
   ],
   "source": [
    "x=l[:-20]\n",
    "x"
   ]
  },
  {
   "cell_type": "code",
   "execution_count": 18,
   "id": "b637b94c",
   "metadata": {},
   "outputs": [
    {
     "data": {
      "text/plain": [
       "array([ 81,  82,  83,  84,  85,  86,  87,  88,  89,  90,  91,  92,  93,\n",
       "        94,  95,  96,  97,  98,  99, 100])"
      ]
     },
     "execution_count": 18,
     "metadata": {},
     "output_type": "execute_result"
    }
   ],
   "source": [
    "y=l[-20:]\n",
    "y"
   ]
  },
  {
   "cell_type": "code",
   "execution_count": null,
   "id": "f5aabfc1",
   "metadata": {},
   "outputs": [],
   "source": []
  }
 ],
 "metadata": {
  "kernelspec": {
   "display_name": "Python 3",
   "language": "python",
   "name": "python3"
  },
  "language_info": {
   "codemirror_mode": {
    "name": "ipython",
    "version": 3
   },
   "file_extension": ".py",
   "mimetype": "text/x-python",
   "name": "python",
   "nbconvert_exporter": "python",
   "pygments_lexer": "ipython3",
   "version": "3.7.3"
  }
 },
 "nbformat": 4,
 "nbformat_minor": 5
}
